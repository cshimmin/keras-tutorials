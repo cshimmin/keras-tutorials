{
 "cells": [
  {
   "cell_type": "markdown",
   "metadata": {},
   "source": [
    "# Tutorial 01 - Intro to Keras models\n",
    "\n",
    "## Step 1: imports etc\n",
    "\n",
    "In general, your notebooks should start with a block like the one below.\n",
    "It will prevent your notebook from pre-allocating 100% of the GPU memory, which will prevent other notebooks from running.\n",
    "You can, however, change the assignment of `CUDA_VISIBLE_DEVICES` to select a different GPU. Currently valid options are `'0'` or `'1'`, for the Titan X GPUs. If you want to change this, you will have to restart the notebook kernel."
   ]
  },
  {
   "cell_type": "code",
   "execution_count": 1,
   "metadata": {},
   "outputs": [],
   "source": [
    "import os\n",
    "os.environ['CUDA_VISIBLE_DEVICES'] = '1'\n",
    "\n",
    "import tensorflow as tf\n",
    "config = tf.ConfigProto()\n",
    "config.gpu_options.allow_growth = True\n",
    "session = tf.Session(config=config)"
   ]
  },
  {
   "cell_type": "markdown",
   "metadata": {},
   "source": [
    "Next, we'll import some very common tools that are used often (even if we're not doing anything with neural networks).\n",
    "\n",
    "In particular, numpy enables the use of efficent array processing and includes many mathematical functions, and matplotlib lets us do some graphical plotting."
   ]
  },
  {
   "cell_type": "code",
   "execution_count": 2,
   "metadata": {},
   "outputs": [],
   "source": [
    "import numpy as np\n",
    "import matplotlib.pyplot as plt"
   ]
  },
  {
   "cell_type": "markdown",
   "metadata": {},
   "source": [
    "Next, we will import Keras, and we will also directly import a few particular things from (sub)modules, for convenience.\n",
    "These general items will almost always be needed; there are many other things in Keras that you may also need depending on what you are doing."
   ]
  },
  {
   "cell_type": "code",
   "execution_count": 3,
   "metadata": {},
   "outputs": [
    {
     "name": "stderr",
     "output_type": "stream",
     "text": [
      "Using TensorFlow backend.\n"
     ]
    }
   ],
   "source": [
    "import keras\n",
    "import keras.backend as K\n",
    "import keras.layers as layers\n",
    "from keras.models import Model"
   ]
  },
  {
   "cell_type": "markdown",
   "metadata": {},
   "source": [
    "In this particular notebook, we're going to import one of the example datasets using a convenience package from Keras.\n",
    "It is the famous MNIST handwritten digit dataset."
   ]
  },
  {
   "cell_type": "code",
   "execution_count": 4,
   "metadata": {},
   "outputs": [],
   "source": [
    "from keras.datasets import mnist"
   ]
  },
  {
   "cell_type": "markdown",
   "metadata": {},
   "source": [
    "## Step 2: Getting the data\n",
    "(Note that if it's your first time using this tool, it will take a moment to download some files in the background when you run the next line.)\n",
    "\n",
    "The Keras tool returns something kind of funky.\n",
    "It is a 2-tuple (kind of like a list with 2 elements).\n",
    "Each element of the 2-tuple is also a 2-tuple.\n",
    "The first one contains the training data, and the second one contains validation data.\n",
    "Each of the tuples has the `X` dataset (the input images) as the first element, and the `y` data (the target labels) as the second element.\n",
    "You can name them whatever you want in the notebook, but `X` and `y` are common terms for them.\n",
    "\n",
    "Here is a fancy _pythonic_ way to unpack this result:"
   ]
  },
  {
   "cell_type": "code",
   "execution_count": 5,
   "metadata": {},
   "outputs": [],
   "source": [
    "(X_train, y_train), (X_val, y_val) = mnist.load_data()"
   ]
  },
  {
   "cell_type": "markdown",
   "metadata": {},
   "source": [
    "If this is confusing, it might help to note that the following code does the exact same thing (but in a much more verbose way).\n",
    "It's pretty common in python to return multiple things from a function using tuples, so I suggest getting used to the above method :)"
   ]
  },
  {
   "cell_type": "code",
   "execution_count": 6,
   "metadata": {},
   "outputs": [],
   "source": [
    "mnist_data = mnist.load_data()\n",
    "\n",
    "train_data = mnist_data[0]\n",
    "val_data = mnist_data[1]\n",
    "\n",
    "X_train = train_data[0] # or this could be, e.g., mnist_data[0][0]\n",
    "y_train = train_data[1] #                         mnist_data[0][1]   ... etc.\n",
    "\n",
    "X_val = val_data[0]\n",
    "y_val = val_data[1]"
   ]
  },
  {
   "cell_type": "markdown",
   "metadata": {},
   "source": [
    "## Step 3: Understanding the data\n",
    "\n",
    "Now that we've got the data loaded up, it's always a good idea to poke and prod at it a bit, to make sure we understand it before trying to actually do anything with it.\n",
    "\n",
    "All four of the variables we unpacked above are numpy arrays.\n",
    "You can look at it in its raw form (which is usually truncated for large arrays) by simply typing the variable name in a cell:"
   ]
  },
  {
   "cell_type": "code",
   "execution_count": 7,
   "metadata": {},
   "outputs": [
    {
     "data": {
      "text/plain": [
       "array([[[0, 0, 0, ..., 0, 0, 0],\n",
       "        [0, 0, 0, ..., 0, 0, 0],\n",
       "        [0, 0, 0, ..., 0, 0, 0],\n",
       "        ...,\n",
       "        [0, 0, 0, ..., 0, 0, 0],\n",
       "        [0, 0, 0, ..., 0, 0, 0],\n",
       "        [0, 0, 0, ..., 0, 0, 0]],\n",
       "\n",
       "       [[0, 0, 0, ..., 0, 0, 0],\n",
       "        [0, 0, 0, ..., 0, 0, 0],\n",
       "        [0, 0, 0, ..., 0, 0, 0],\n",
       "        ...,\n",
       "        [0, 0, 0, ..., 0, 0, 0],\n",
       "        [0, 0, 0, ..., 0, 0, 0],\n",
       "        [0, 0, 0, ..., 0, 0, 0]],\n",
       "\n",
       "       [[0, 0, 0, ..., 0, 0, 0],\n",
       "        [0, 0, 0, ..., 0, 0, 0],\n",
       "        [0, 0, 0, ..., 0, 0, 0],\n",
       "        ...,\n",
       "        [0, 0, 0, ..., 0, 0, 0],\n",
       "        [0, 0, 0, ..., 0, 0, 0],\n",
       "        [0, 0, 0, ..., 0, 0, 0]],\n",
       "\n",
       "       ...,\n",
       "\n",
       "       [[0, 0, 0, ..., 0, 0, 0],\n",
       "        [0, 0, 0, ..., 0, 0, 0],\n",
       "        [0, 0, 0, ..., 0, 0, 0],\n",
       "        ...,\n",
       "        [0, 0, 0, ..., 0, 0, 0],\n",
       "        [0, 0, 0, ..., 0, 0, 0],\n",
       "        [0, 0, 0, ..., 0, 0, 0]],\n",
       "\n",
       "       [[0, 0, 0, ..., 0, 0, 0],\n",
       "        [0, 0, 0, ..., 0, 0, 0],\n",
       "        [0, 0, 0, ..., 0, 0, 0],\n",
       "        ...,\n",
       "        [0, 0, 0, ..., 0, 0, 0],\n",
       "        [0, 0, 0, ..., 0, 0, 0],\n",
       "        [0, 0, 0, ..., 0, 0, 0]],\n",
       "\n",
       "       [[0, 0, 0, ..., 0, 0, 0],\n",
       "        [0, 0, 0, ..., 0, 0, 0],\n",
       "        [0, 0, 0, ..., 0, 0, 0],\n",
       "        ...,\n",
       "        [0, 0, 0, ..., 0, 0, 0],\n",
       "        [0, 0, 0, ..., 0, 0, 0],\n",
       "        [0, 0, 0, ..., 0, 0, 0]]], dtype=uint8)"
      ]
     },
     "execution_count": 7,
     "metadata": {},
     "output_type": "execute_result"
    }
   ],
   "source": [
    "X_val"
   ]
  },
  {
   "cell_type": "markdown",
   "metadata": {},
   "source": [
    "There are lots of zeros, and nested arrays, but it's hard to really tell what's going on.\n",
    "Let's look at the shape of the different arrays:"
   ]
  },
  {
   "cell_type": "code",
   "execution_count": 8,
   "metadata": {},
   "outputs": [
    {
     "name": "stdout",
     "output_type": "stream",
     "text": [
      "X_train shape: (60000, 28, 28)\n",
      "X_train dtype: uint8\n",
      "\n",
      "y_train shape: (60000,)\n",
      "y_train dtype: uint8\n"
     ]
    }
   ],
   "source": [
    "print(\"X_train shape:\", X_train.shape)\n",
    "print(\"X_train dtype:\", X_train.dtype)\n",
    "print()\n",
    "print(\"y_train shape:\", y_train.shape)\n",
    "print(\"y_train dtype:\", y_train.dtype)"
   ]
  },
  {
   "cell_type": "code",
   "execution_count": 9,
   "metadata": {},
   "outputs": [
    {
     "name": "stdout",
     "output_type": "stream",
     "text": [
      "X_val shape: (10000, 28, 28)\n",
      "X_val dtype: uint8\n",
      "\n",
      "y_val shape: (10000,)\n",
      "y_val dtype: uint8\n"
     ]
    }
   ],
   "source": [
    "print(\"X_val shape:\", X_val.shape)\n",
    "print(\"X_val dtype:\", X_val.dtype)\n",
    "print()\n",
    "print(\"y_val shape:\", y_val.shape)\n",
    "print(\"y_val dtype:\", y_val.dtype)"
   ]
  },
  {
   "cell_type": "markdown",
   "metadata": {},
   "source": [
    "So, we can see that the `X_train` array is a list of 60,000 28x28 arrays (i.e., 28x28 images).\n",
    "The `y_train` array is simply a list of 60,000 numbers. We also see there are 10,000 examples in the validation data.\n",
    "\n",
    "The data type is `uint8`, which means an 8-bit unsigned integer. In other words, numbers between 0-255.\n",
    "\n",
    "Let's probe a bit further. There's an easy way to visualize 2D arrays using matplotlib's `imshow` function. `X_train` is a 3D array, but we can pick out just the first 2D image using `X_train[0]`:"
   ]
  },
  {
   "cell_type": "code",
   "execution_count": 10,
   "metadata": {},
   "outputs": [
    {
     "data": {
      "text/plain": [
       "<matplotlib.image.AxesImage at 0x7fefd821e160>"
      ]
     },
     "execution_count": 10,
     "metadata": {},
     "output_type": "execute_result"
    },
    {
     "data": {
      "image/png": "[encoded data removed]",
      "text/plain": [
       "<Figure size 432x288 with 1 Axes>"
      ]
     },
     "metadata": {
      "needs_background": "light"
     },
     "output_type": "display_data"
    }
   ],
   "source": [
    "plt.imshow(X_train[0])"
   ]
  },
  {
   "cell_type": "markdown",
   "metadata": {},
   "source": [
    "It looks like the number 5! Let's have a look at the corresponding entry of `y_train`:"
   ]
  },
  {
   "cell_type": "code",
   "execution_count": 11,
   "metadata": {},
   "outputs": [
    {
     "data": {
      "text/plain": [
       "5"
      ]
     },
     "execution_count": 11,
     "metadata": {},
     "output_type": "execute_result"
    }
   ],
   "source": [
    "y_train[0]"
   ]
  },
  {
   "cell_type": "markdown",
   "metadata": {},
   "source": [
    "As expected, the `y_train` dataset lists 5 as the expected answer for this image.\n",
    "We could use this information to train a neural network to predict the number written in a given image, which is a classic example problem.\n",
    "for now we're going to just play with some of these datasets by manipulating them with keras."
   ]
  },
  {
   "cell_type": "markdown",
   "metadata": {},
   "source": [
    "## Step 4: Feeding data into a Keras model\n",
    "\n",
    "Before we jump into building and training neural networks, let's just focus on a creating a very simple Keras model to illustrate how data goes into a network, and how the network manipulates the data.\n",
    "\n",
    "**Note:** Many of the following cells will start with `K.clear_session()`. What this does is delete all of the tensors that have been created by Keras in the GPU. It just helps prevent cluttering the names and keep the GPU getting bogged down by excess memory use, but it will destroy whatever network you have built/trained unless it was saved to disk. This only affects stuff created by the instance of Keras running in this notebook.\n",
    "\n",
    "Generally, your Keras model will start with an input layer, which will then feed in to one or more downstream layers.\n",
    "\n",
    "When building models in Keras, there are two concepts to keep in mind: **Layers** and **Tensors**.\n",
    "\n",
    "A **Layer** is an abstraction provided by Keras, that represents a mathematical operation (or some kind of transformation of the data).\n",
    "It also keeps track of where the data comes from and where it goes.\n",
    "For example, the very common `Dense` layer represents a dense (a.k.a. fully-connected) neural network layer.\n",
    "The details are mathy, but a dense layer transforms input data by mutiplying the inputs by a matrix of (trainable) weights, adding to it a vector of (trainable) bias offsets, and applying some kind of nonlinearity; let's not worry too much about that for now!\n",
    "\n",
    "The `Input` layer is a special layer that acts as a placeholder for input data (e.g. that you might provide in the form of a numpy array), and feeds that data into any other layers that are connected to it.\n",
    "\n",
    "A **Tensor** is the actual underlying chunk of memory that represents the data on the GPU.\n",
    "Generally a layer takes as input a tensor, and returns as output a different tensor (which contains data that was somehow transformed by the layer).\n",
    "Sometimes we will want to write our own custom layers that operate on the tensor directly.\n",
    "\n",
    "---\n",
    "\n",
    "Okay, so lets jump right in and make a _very_ simple Keras model that does something kind of stupid:"
   ]
  },
  {
   "cell_type": "code",
   "execution_count": 12,
   "metadata": {},
   "outputs": [],
   "source": [
    "K.clear_session()\n",
    "\n",
    "model_input = layers.Input(shape=(1,))\n",
    "\n",
    "add_layer = layers.Add()\n",
    "\n",
    "model_output = add_layer([model_input, model_input])\n",
    "\n",
    "model = Model(model_input, model_output)"
   ]
  },
  {
   "cell_type": "markdown",
   "metadata": {},
   "source": [
    "Okay, what have we done?\n",
    "On `line 1`, we used an input **layer** to create the **tensor** `model_input`, which acts as the \"starting point\" for our data.\n",
    "For the input layer, we must specify the shape of the data.\n",
    "When describing shapes to Keras, you always ignore the \"batch dimension\", which is generally the first dimension of a dataset.\n",
    "That's because Keras assumes this size will be variable; i.e., you may feed it only a batch of 64 examples, or you may feed it the full 60,000 examples in the dataset.\n",
    "Here, we specify `shape=(1,)`, so really we are saying the input data will be shaped like `(n,1)`.\n",
    "Recall that `y_train` is simply a 1D array that has a shape of `(60000,)`, which as a special case (applying only to 1D input tensors), keras will treat as `(60000,1)`; in general, your input data has to have at least two dimensions, to account for the batch dimension.\n",
    "\n",
    "On `line 3`, we created an _instance_ of the built-in `Add` layer.\n",
    "Keras layers need to be instantiated as class objects; in this case you do not need to specify any arguments to create the `Add` layer, but sometimes you do and the arguments would go in the parentheses.\n",
    "Once a layer is instantiated, you can use it kind of like a function to apply it to some input tensor(s).\n",
    "It will connect the layer to the input tensor(s), apply its transformation, and return an output tensor.\n",
    "The only exception is the `Input` layer, which does not take any tensor as input, it simply returns a tensor that acts as a placeholder/starting point for any data that you will feed into the network.\n",
    "\n",
    "The `Add` layer expects a list of one or more input tensors.\n",
    "On `line 5`, we simply give it the `model_input` sensor twice. So, the output will be `model_input` added to itself... in other words, this model simply multiplies the input by two!\n",
    "\n",
    "Finally, on `line 9` we create a complete Keras model by using the `Model` class. The two arguments are the starting and ending point for the data.\n",
    "Keras will automatically create a graph of all the tensors flowing from the starting point (`model_input`) to the ending point (`model_output`).\n",
    "\n",
    "Keras can generate a nicely-formatted report of the model design, which is often useful:"
   ]
  },
  {
   "cell_type": "code",
   "execution_count": 13,
   "metadata": {},
   "outputs": [
    {
     "name": "stdout",
     "output_type": "stream",
     "text": [
      "__________________________________________________________________________________________________\n",
      "Layer (type)                    Output Shape         Param #     Connected to                     \n",
      "==================================================================================================\n",
      "input_1 (InputLayer)            (None, 1)            0                                            \n",
      "__________________________________________________________________________________________________\n",
      "add_1 (Add)                     (None, 1)            0           input_1[0][0]                    \n",
      "                                                                 input_1[0][0]                    \n",
      "==================================================================================================\n",
      "Total params: 0\n",
      "Trainable params: 0\n",
      "Non-trainable params: 0\n",
      "__________________________________________________________________________________________________\n"
     ]
    }
   ],
   "source": [
    "model.summary()"
   ]
  },
  {
   "cell_type": "markdown",
   "metadata": {},
   "source": [
    "Now let's try running some data through our network.\n",
    "For this, we use the `predict` function, which takes some kind of data (usually a numpy array) and loads that data into the input tensor.\n",
    "This input tensor is then fed into any layers connected to it, which updates the values of the respective output tensors, and so on, until the value of the final output tensor has been calculated.\n",
    "The value of the output tensor is then returned (again, typically as a numpy array)."
   ]
  },
  {
   "cell_type": "code",
   "execution_count": 14,
   "metadata": {},
   "outputs": [
    {
     "name": "stdout",
     "output_type": "stream",
     "text": [
      "y_train shape: (60000,)\n",
      "result shape: (60000, 1)\n"
     ]
    }
   ],
   "source": [
    "print(\"y_train shape:\", y_train.shape)\n",
    "result = model.predict(y_train)\n",
    "print(\"result shape:\", result.shape)"
   ]
  },
  {
   "cell_type": "markdown",
   "metadata": {},
   "source": [
    "Note that the resulting tensor has a shape of `(60000,1)`.\n",
    "This is because, as mentioned above, Keras treats 1D inputs as a special case, converting `(N,)` into `(N,1)`.\n",
    "Keras has its reasons for always wanting to work with at least 2D tensors, but having this extra dimension can be annoying.\n",
    "For example, to get the second element of the array, we have to do something like `result[1][0]`.\n",
    "We can use the numpy array's `squeeze` function to remove any extra size-1 dimensions:"
   ]
  },
  {
   "cell_type": "code",
   "execution_count": 15,
   "metadata": {},
   "outputs": [
    {
     "name": "stdout",
     "output_type": "stream",
     "text": [
      "result_squeezed shape: (60000,)\n"
     ]
    }
   ],
   "source": [
    "result_squeezed = result.squeeze()\n",
    "print(\"result_squeezed shape:\", result_squeezed.shape)"
   ]
  },
  {
   "cell_type": "markdown",
   "metadata": {},
   "source": [
    "Okay, now that we have the result as just a \"normal\" array, let's have a look at it!\n",
    "Using numpy's \"array slice\" syntax (we'll make extensive use of this), we'll print the first 10 elements of the input and output data.\n",
    "We can also check that the first ten elements are in fact the double of the inputs."
   ]
  },
  {
   "cell_type": "code",
   "execution_count": 16,
   "metadata": {},
   "outputs": [
    {
     "name": "stdout",
     "output_type": "stream",
     "text": [
      "[5 0 4 1 9 2 1 3 1 4]\n",
      "[10.  0.  8.  2. 18.  4.  2.  6.  2.  8.]\n",
      "[ True  True  True  True  True  True  True  True  True  True]\n"
     ]
    }
   ],
   "source": [
    "print(y_train[:10])\n",
    "print(result_squeezed[:10])\n",
    "print(result_squeezed[:10] == 2*y_train[:10])"
   ]
  },
  {
   "cell_type": "markdown",
   "metadata": {},
   "source": [
    "## Step 5: Slightly more complicated models\n",
    "\n",
    "Okay, that Keras model was super simple.\n",
    "And note that it's NOT a neural network!\n",
    "There is nothing for this network to \"learn\", and as the summary above shows, there zero trainable parameters.\n",
    "This model simply applies a computational rule on its inputs, and outputs the results.\n",
    "\n",
    "Although Keras (and tensorflow, which Keras is built on top of) is designed to model neural networks, it's important to understand that really everything is just a computational graph that models how data flows through various computations/transformations.\n",
    "\n",
    "The only difference between our simple computational graph and a neural network is that the computations performed by a NN generally depend on some variable parameters (often thousands or millions of them!)\n",
    "The entire problem of training a neural network is to determine the values of those parameters in such a way that the NN computes something useful.\n",
    "\n",
    "For now, let's just play a little bit more with Keras graphs before we worry about adding trainable parameters.\n",
    "\n",
    "Very often, you will see that I name intermediate tensors something like `H` (for hidden) or `X,w,z`.\n",
    "That's because the python name that we give to a particular tensor or layer is irrelevant to Keras; as soon as a tensor is connected to a layer, Keras internally adds that tensor to its computation graph, and will remember the tensor, even if you later assign that python variable to something else.\n",
    "\n",
    "Let's illustrate this by creating a function that builds a Keras model that has a variable number of layers:"
   ]
  },
  {
   "cell_type": "code",
   "execution_count": 17,
   "metadata": {},
   "outputs": [],
   "source": [
    "def mk_model(n_layers):\n",
    "    K.clear_session()\n",
    "    \n",
    "    model_input = layers.Input((1,))\n",
    "    \n",
    "    add_layer = layers.Add()\n",
    "    \n",
    "    # I am using \"H\" as an alias for the `model_input` tensor.\n",
    "    H = model_input\n",
    "    \n",
    "    for i in range(n_layers):\n",
    "        # after the first iteration of this loop,\n",
    "        # H will now refer to the output of the add_layer operation.\n",
    "        H = add_layer([H, model_input])\n",
    "    \n",
    "    model_output = H\n",
    "    \n",
    "    model = Model(model_input, model_output)\n",
    "    \n",
    "    return model"
   ]
  },
  {
   "cell_type": "markdown",
   "metadata": {},
   "source": [
    "Stop for a moment and try to figure out what the model will do, say if `n_layers=1`.\n",
    "What if `n_layers=3`?\n",
    "\n",
    "Let's try!"
   ]
  },
  {
   "cell_type": "code",
   "execution_count": 18,
   "metadata": {},
   "outputs": [
    {
     "name": "stdout",
     "output_type": "stream",
     "text": [
      "__________________________________________________________________________________________________\n",
      "Layer (type)                    Output Shape         Param #     Connected to                     \n",
      "==================================================================================================\n",
      "input_1 (InputLayer)            (None, 1)            0                                            \n",
      "__________________________________________________________________________________________________\n",
      "add_1 (Add)                     (None, 1)            0           input_1[0][0]                    \n",
      "                                                                 input_1[0][0]                    \n",
      "==================================================================================================\n",
      "Total params: 0\n",
      "Trainable params: 0\n",
      "Non-trainable params: 0\n",
      "__________________________________________________________________________________________________\n",
      "[10.  0.  8.  2. 18.  4.  2.  6.  2.  8.]\n"
     ]
    }
   ],
   "source": [
    "model = mk_model(1)\n",
    "\n",
    "model.summary()\n",
    "\n",
    "print(model.predict(y_train[:10]).squeeze())"
   ]
  },
  {
   "cell_type": "code",
   "execution_count": 19,
   "metadata": {},
   "outputs": [
    {
     "name": "stdout",
     "output_type": "stream",
     "text": [
      "__________________________________________________________________________________________________\n",
      "Layer (type)                    Output Shape         Param #     Connected to                     \n",
      "==================================================================================================\n",
      "input_1 (InputLayer)            (None, 1)            0                                            \n",
      "__________________________________________________________________________________________________\n",
      "add_1 (Add)                     (None, 1)            0           input_1[0][0]                    \n",
      "                                                                 input_1[0][0]                    \n",
      "                                                                 add_1[0][0]                      \n",
      "                                                                 input_1[0][0]                    \n",
      "                                                                 add_1[1][0]                      \n",
      "                                                                 input_1[0][0]                    \n",
      "==================================================================================================\n",
      "Total params: 0\n",
      "Trainable params: 0\n",
      "Non-trainable params: 0\n",
      "__________________________________________________________________________________________________\n",
      "[20.  0. 16.  4. 36.  8.  4. 12.  4. 16.]\n"
     ]
    }
   ],
   "source": [
    "model = mk_model(3)\n",
    "\n",
    "model.summary()\n",
    "\n",
    "print(model.predict(y_train[:10]).squeeze())"
   ]
  },
  {
   "cell_type": "markdown",
   "metadata": {},
   "source": [
    "I would like to quickly make one more point about instantiating layers, and re-using them.\n",
    "\n",
    "In the previous two examples, we had a line like:\n",
    "```\n",
    "add_layer = Add()\n",
    "```\n",
    "\n",
    "This allows us to re-use the `Add` layer however many times we want.\n",
    "This is fine, because one `Add` layer is exactly the same as any other.\n",
    "\n",
    "However, very often when building neural networks, you want to be careful to create new layers for different parts of the network.\n",
    "This is because, for example, all the weights of a `Dense` layer will be the same, wherever that layer is applied.\n",
    "Sometimes (but infrequently) this is useful, e.g. if you want to force the exact same neural computation to occur at two places within the network.\n",
    "More commonly, every layer of the nerual network is assumed to have its own set of weights, so a new _instance_ of the layer must be created each time.\n",
    "\n",
    "Generally, when this is the case, we do not bother to name the instantiated network.\n",
    "Instead, you can simply instantiate a layer and apply it to a tensor at the same time (which looks kind of weird since it has two sets of parenthesis).\n",
    "\n",
    "Let's illustrate this by re-writing the above model in this way:"
   ]
  },
  {
   "cell_type": "code",
   "execution_count": 20,
   "metadata": {},
   "outputs": [],
   "source": [
    "def mk_model(n_layers):\n",
    "    K.clear_session()\n",
    "    \n",
    "    model_input = layers.Input((1,))\n",
    "        \n",
    "    # I am using \"H\" as an alias for the `model_input` tensor.\n",
    "    H = model_input\n",
    "    \n",
    "    for i in range(n_layers):\n",
    "        # after the first iteration of this loop,\n",
    "        # H will now refer to the output of the add_layer operation.\n",
    "        H = layers.Add()([H, model_input])\n",
    "    \n",
    "    model_output = H\n",
    "    \n",
    "    model = Model(model_input, model_output)\n",
    "    \n",
    "    return model"
   ]
  },
  {
   "cell_type": "code",
   "execution_count": 21,
   "metadata": {},
   "outputs": [
    {
     "name": "stdout",
     "output_type": "stream",
     "text": [
      "__________________________________________________________________________________________________\n",
      "Layer (type)                    Output Shape         Param #     Connected to                     \n",
      "==================================================================================================\n",
      "input_1 (InputLayer)            (None, 1)            0                                            \n",
      "__________________________________________________________________________________________________\n",
      "add_1 (Add)                     (None, 1)            0           input_1[0][0]                    \n",
      "                                                                 input_1[0][0]                    \n",
      "__________________________________________________________________________________________________\n",
      "add_2 (Add)                     (None, 1)            0           add_1[0][0]                      \n",
      "                                                                 input_1[0][0]                    \n",
      "__________________________________________________________________________________________________\n",
      "add_3 (Add)                     (None, 1)            0           add_2[0][0]                      \n",
      "                                                                 input_1[0][0]                    \n",
      "==================================================================================================\n",
      "Total params: 0\n",
      "Trainable params: 0\n",
      "Non-trainable params: 0\n",
      "__________________________________________________________________________________________________\n",
      "[20.  0. 16.  4. 36.  8.  4. 12.  4. 16.]\n"
     ]
    }
   ],
   "source": [
    "model = mk_model(3)\n",
    "\n",
    "model.summary()\n",
    "\n",
    "print(model.predict(y_train[:10]).squeeze())"
   ]
  },
  {
   "cell_type": "markdown",
   "metadata": {},
   "source": [
    "Note that now in the summary there are three different `Add` layers in the network, and they connect to fewer tensors each.\n",
    "Of course it's kind of pointless to instantiate multiple `Add` layers, since they're all fundamentally the same, but it can make the code a bit cleaner and even makes the model summary a bit easier to understand."
   ]
  },
  {
   "cell_type": "markdown",
   "metadata": {},
   "source": [
    "## Step 6: Mutiple inputs\n",
    "\n",
    "Okay, let's get a bit more complicated still: Keras models can have an arbitrary number of inputs and outputs.\n",
    "Let's illustrate this by again using the `Add` layer.\n",
    "\n",
    "Again, pause and try to figure out what this network is going to do before moving on..."
   ]
  },
  {
   "cell_type": "code",
   "execution_count": 22,
   "metadata": {},
   "outputs": [],
   "source": [
    "def mk_model():\n",
    "    K.clear_session()\n",
    "    \n",
    "    model_input1 = layers.Input((28,28))\n",
    "    model_input2 = layers.Input((28,28))\n",
    "        \n",
    "    model_output = layers.Add()([model_input1, model_input2])\n",
    "    \n",
    "    model = Model([model_input1, model_input2], model_output)\n",
    "    \n",
    "    return model"
   ]
  },
  {
   "cell_type": "code",
   "execution_count": 23,
   "metadata": {},
   "outputs": [
    {
     "name": "stdout",
     "output_type": "stream",
     "text": [
      "__________________________________________________________________________________________________\n",
      "Layer (type)                    Output Shape         Param #     Connected to                     \n",
      "==================================================================================================\n",
      "input_1 (InputLayer)            (None, 28, 28)       0                                            \n",
      "__________________________________________________________________________________________________\n",
      "input_2 (InputLayer)            (None, 28, 28)       0                                            \n",
      "__________________________________________________________________________________________________\n",
      "add_1 (Add)                     (None, 28, 28)       0           input_1[0][0]                    \n",
      "                                                                 input_2[0][0]                    \n",
      "==================================================================================================\n",
      "Total params: 0\n",
      "Trainable params: 0\n",
      "Non-trainable params: 0\n",
      "__________________________________________________________________________________________________\n"
     ]
    }
   ],
   "source": [
    "model = mk_model()\n",
    "model.summary()"
   ]
  },
  {
   "cell_type": "markdown",
   "metadata": {},
   "source": [
    "This time we have created _two_ input layers.\n",
    "This time, the input shape is `(28,28)`. Recall that the shape of `X_train` is `(60000,28,28)`.\n",
    "\n",
    "These two layers are passed to an `Add` layer, and the resulting tensor is returned as the model output.\n",
    "Note that `Add` will sum together tensors of the same shape in an element-wise fashion.\n",
    "For example adding 2x2 tensors looks like:\n",
    "```\n",
    "[ a b ]   [ e f ]   [ a+e b+f ]\n",
    "[ c d ] + [ g h ] = [ c+g d+h ]\n",
    "```\n",
    "\n",
    "Note that it will do this element-wise summation for each element of the batch-axis independently (i.e. each of the 60000 images would be treated as its own 28x28 array summation).\n",
    "This is kind of illustrating why Keras generally suppresses the batch-axis of the tensors when referring to shape.\n",
    "\n",
    "---\n",
    "\n",
    "Okay, so let's have a look at what this model does.\n",
    "We will supply as input the first 5 images from `X_train` and `X_val`.\n",
    "Note that this is done by giving the two input datasets together in a list (`[]`) to the `predict` function."
   ]
  },
  {
   "cell_type": "code",
   "execution_count": 24,
   "metadata": {},
   "outputs": [
    {
     "name": "stdout",
     "output_type": "stream",
     "text": [
      "(5, 28, 28)\n"
     ]
    }
   ],
   "source": [
    "result = model.predict([X_train[:5], X_val[:5]])\n",
    "print(result.shape)"
   ]
  },
  {
   "cell_type": "markdown",
   "metadata": {},
   "source": [
    "We can use the (kind of annoyingly complicated) `subplot` feature of matplotlib to nicely illustrate what's going on here.\n",
    "The first column is the data from `X_train`, which is passed to `model_input1`.\n",
    "The second colum is the data from `X_val`, which is passed to `model_input2`.\n",
    "\n",
    "The third column is the output of the Keras model! Weird, but hopefully illustrative."
   ]
  },
  {
   "cell_type": "code",
   "execution_count": 25,
   "metadata": {},
   "outputs": [
    {
     "data": {
      "image/png": "[encoded data removed]",
      "text/plain": [
       "<Figure size 360x720 with 15 Axes>"
      ]
     },
     "metadata": {
      "needs_background": "light"
     },
     "output_type": "display_data"
    }
   ],
   "source": [
    "plt.figure(figsize=(5,10))\n",
    "for i in range(5):\n",
    "    plt.subplot(5,3,3*i+1)\n",
    "    plt.imshow(X_train[i])\n",
    "    plt.subplot(5,3,3*i+2)\n",
    "    plt.imshow(X_val[i])\n",
    "    plt.subplot(5,3,3*i+3)\n",
    "    plt.imshow(result[i])"
   ]
  },
  {
   "cell_type": "markdown",
   "metadata": {},
   "source": [
    "## Step 7: Multiple outputs / unnecessarily complicated example\n",
    "\n",
    "Okay, let's do an example of a model with multiple inputs and outputs. Please note that the example is really quite complicated, and is bordering on abuse of the Keras framework. At the very least, things like this should be done by implementing custom Keras layers, rather than trying to shoehorn the operations into the Keras built-ins. Have a look just for fun, but don't be discouraged if it's very confusing :)\n",
    "\n",
    "I am also going to introduce a few layers, including the `Lambda` layer, which allows you to write apply simple mathematical transformations directly on the tensors.\n",
    "When using the lambda layer, the object being manipulated is actually a _tensorflow_ tensor object.\n",
    "It is generally pretty similar to a numpy array, and you must be careful to account for the batch axis (which is suppressed for Keras tensors, but not tensorflow tenors).\n",
    "There are also \"backend\" functions that can be used when manipulating tensorflow tensors directly, such as `K.sum()` and `tf.sin()`.\n",
    "\n",
    "Note also that I have sprinkled statements like `print(img.shape)` throughout the model-building function.\n",
    "These can be really helpful to design complicated networks when tensors change shape often and/or need to conform to some other tensors' shape."
   ]
  },
  {
   "cell_type": "code",
   "execution_count": 26,
   "metadata": {},
   "outputs": [],
   "source": [
    "def mk_model():\n",
    "    K.clear_session()\n",
    "    \n",
    "    model_input1 = layers.Input((28,28))\n",
    "    model_input2 = layers.Input((1,))\n",
    "    \n",
    "    # scale the input image to range from 0.0-1.0, rather than 0-255.\n",
    "    img = layers.Lambda(lambda x: x/255.)(model_input1)\n",
    "    print(img.shape)\n",
    "    \n",
    "    # What's this do?\n",
    "    sum_pixels = layers.Lambda(lambda x: K.sum(x, axis=(1,2)))(img)\n",
    "    print(sum_pixels.shape)\n",
    "    \n",
    "    # For later purposes, we need an extra dimension on the image data.\n",
    "    # Note that this is basically the opposite of the `squeeze()` function\n",
    "    # that was mentioned early on in this tutorial.\n",
    "    img = layers.Reshape((28,28,1))(img)\n",
    "    print(img.shape)\n",
    "    \n",
    "    # Doing this because I want the input labels to confrom to the same\n",
    "    # number of dimensions as the image data.\n",
    "    labels = layers.Reshape((1,1,1))(model_input2)\n",
    "    print(labels.shape)\n",
    "    \n",
    "    # What the heck is this doing?\n",
    "    channel_red = layers.Lambda(lambda x: x[0] * ((x[1]+0)%3)/2.)([img, labels])\n",
    "    print(channel_red.shape)\n",
    "    channel_green = layers.Lambda(lambda x: x[0] * ((x[1]+1)%3)/2.)([img, labels])\n",
    "    print(channel_green.shape)\n",
    "    channel_blue = layers.Lambda(lambda x: x[0] * ((x[1]+2)%3)/2.)([img, labels])\n",
    "    print(channel_blue.shape)\n",
    "    \n",
    "    # Note that by default, the Concatenate layer will combine\n",
    "    # tensors according to their last axis.\n",
    "    img_colored = layers.Concatenate()([channel_red, channel_green, channel_blue])\n",
    "    print(img_colored.shape)\n",
    "    \n",
    "    model = Model([model_input1, model_input2], [img_colored, sum_pixels])\n",
    "    \n",
    "    return model"
   ]
  },
  {
   "cell_type": "code",
   "execution_count": 27,
   "metadata": {},
   "outputs": [
    {
     "name": "stdout",
     "output_type": "stream",
     "text": [
      "(?, 28, 28)\n",
      "(?,)\n",
      "(?, 28, 28, 1)\n",
      "(?, 1, 1, 1)\n",
      "(?, 28, 28, 1)\n",
      "(?, 28, 28, 1)\n",
      "(?, 28, 28, 1)\n",
      "(?, 28, 28, 3)\n",
      "result_a shape: (10000, 28, 28, 3)\n",
      "result_b shape: (10000,)\n"
     ]
    }
   ],
   "source": [
    "model = mk_model()\n",
    "result_a,result_b = model.predict([X_val, y_val])\n",
    "\n",
    "print(\"result_a shape:\", result_a.shape)\n",
    "print(\"result_b shape:\", result_b.shape)"
   ]
  },
  {
   "cell_type": "markdown",
   "metadata": {},
   "source": [
    "I don't expect you to easily understand **HOW** all of that junk worked.\n",
    "But, can you figure out **WHAT** exactly it has done?\n",
    "\n",
    "I have fed the full set of validation images and labels into the model, and it returned two tensors.\n",
    "The first one is a set of 10000 28x28x3 images. The second is a just list of 10000 numbers.\n",
    "\n",
    "As a hint... we can use matplotlib's `imshow()` function to plot `NxNx3` image data as well. Let's see what that looks like, for the first few:"
   ]
  },
  {
   "cell_type": "code",
   "execution_count": 28,
   "metadata": {},
   "outputs": [
    {
     "data": {
      "image/png": "[encoded data removed]",
      "text/plain": [
       "<Figure size 1152x288 with 10 Axes>"
      ]
     },
     "metadata": {
      "needs_background": "light"
     },
     "output_type": "display_data"
    }
   ],
   "source": [
    "plt.figure(figsize=(16,4))\n",
    "for i in range(10):\n",
    "    plt.subplot(1,10,i+1)\n",
    "    plt.imshow(result_a[i])"
   ]
  },
  {
   "cell_type": "markdown",
   "metadata": {},
   "source": [
    "Any ideas? What exactly has this crazy network done to the input images?\n",
    "\n",
    "Now let's have a look at a few of the numbers in `result_b`:"
   ]
  },
  {
   "cell_type": "code",
   "execution_count": 29,
   "metadata": {},
   "outputs": [
    {
     "data": {
      "text/plain": [
       "array([ 72.36864 , 113.13727 ,  38.70981 , 145.15295 ,  75.439224,\n",
       "        54.333336,  83.07452 ,  82.596085, 120.5255  , 122.941185,\n",
       "       116.70981 , 108.76471 ,  89.73726 , 115.32158 ,  63.52549 ,\n",
       "        85.56079 ,  90.047066,  88.89413 , 138.95294 ,  62.878437],\n",
       "      dtype=float32)"
      ]
     },
     "execution_count": 29,
     "metadata": {},
     "output_type": "execute_result"
    }
   ],
   "source": [
    "result_b[:20]"
   ]
  },
  {
   "cell_type": "markdown",
   "metadata": {},
   "source": [
    "Looks a whole lot of kind of random numbers...\n",
    "\n",
    "A great technique to visualize long lists of numbers is with a _histogram_:"
   ]
  },
  {
   "cell_type": "code",
   "execution_count": 30,
   "metadata": {},
   "outputs": [
    {
     "data": {
      "image/png": "[encoded data removed]",
      "text/plain": [
       "<Figure size 864x648 with 1 Axes>"
      ]
     },
     "metadata": {
      "needs_background": "light"
     },
     "output_type": "display_data"
    }
   ],
   "source": [
    "plt.figure(figsize=(12,9))\n",
    "plt.hist(result_b, bins=40)\n",
    "plt.ylabel('number of results', fontsize=14)\n",
    "plt.xlabel('result_b value', fontsize=14);"
   ]
  },
  {
   "cell_type": "markdown",
   "metadata": {},
   "source": [
    "Another nice trick in numpy is to use fancy array indexing... with this, we can use one array to select values from another.\n",
    "\n",
    "For example, I can select the values from `result_b` for which the original value of `y_val` was zero:"
   ]
  },
  {
   "cell_type": "code",
   "execution_count": 31,
   "metadata": {},
   "outputs": [
    {
     "data": {
      "text/plain": [
       "array([145.15295 , 116.70981 , 115.32158 , 207.27454 , 134.98041 ,\n",
       "       107.47451 , 113.32158 , 163.25099 , 104.705894, 114.41177 ],\n",
       "      dtype=float32)"
      ]
     },
     "execution_count": 31,
     "metadata": {},
     "output_type": "execute_result"
    }
   ],
   "source": [
    "result_b[y_val==0][:10]"
   ]
  },
  {
   "cell_type": "markdown",
   "metadata": {},
   "source": [
    "Let use this trick to look at the histogram of `result_b` values for each of the different numbers..."
   ]
  },
  {
   "cell_type": "code",
   "execution_count": 32,
   "metadata": {},
   "outputs": [
    {
     "data": {
      "image/png": "[encoded data removed]",
      "text/plain": [
       "<Figure size 864x648 with 1 Axes>"
      ]
     },
     "metadata": {
      "needs_background": "light"
     },
     "output_type": "display_data"
    }
   ],
   "source": [
    "plt.figure(figsize=(12,9))\n",
    "plt.hist([result_b[y_val==i] for i in range(10)], bins=40, histtype='step',label=['y=%d'%i for i in range(10)]);\n",
    "plt.legend(fontsize=14)\n",
    "plt.xlabel('result_b value', fontsize=14)\n",
    "plt.ylabel('number of results', fontsize=14);"
   ]
  },
  {
   "cell_type": "markdown",
   "metadata": {},
   "source": [
    "In this figure, each different-colored histogram represents the distribution of `result_b` values for a different value of `y_train`.\n",
    "\n",
    "What can you make of this result?"
   ]
  },
  {
   "cell_type": "markdown",
   "metadata": {},
   "source": [
    "# Part 8: Some common pitfalls\n",
    "\n",
    "Here are a few examples of common pitfalls. Can you explain what's going on?"
   ]
  },
  {
   "cell_type": "code",
   "execution_count": 33,
   "metadata": {},
   "outputs": [],
   "source": [
    "def mk_model():\n",
    "    K.clear_session()\n",
    "    \n",
    "    model_input1 = layers.Input((28,28))\n",
    "    model_input2 = layers.Input((28,28))\n",
    "        \n",
    "    model_output = layers.Add()([model_input1, model_input2])\n",
    "    \n",
    "    model = Model(model_input1, model_output)\n",
    "    \n",
    "    return model"
   ]
  },
  {
   "cell_type": "code",
   "execution_count": 34,
   "metadata": {},
   "outputs": [
    {
     "ename": "ValueError",
     "evalue": "Graph disconnected: cannot obtain value for tensor Tensor(\"input_2:0\", shape=(?, 28, 28), dtype=float32) at layer \"input_2\". The following previous layers were accessed without issue: ['input_1']",
     "output_type": "error",
     "traceback": [
      "\u001b[0;31m---------------------------------------------------------------------------\u001b[0m",
      "\u001b[0;31mValueError\u001b[0m                                Traceback (most recent call last)",
      "\u001b[0;32m<ipython-input-34-2c4e8166a534>\u001b[0m in \u001b[0;36m<module>\u001b[0;34m\u001b[0m\n\u001b[0;32m----> 1\u001b[0;31m \u001b[0mmodel\u001b[0m \u001b[0;34m=\u001b[0m \u001b[0mmk_model\u001b[0m\u001b[0;34m(\u001b[0m\u001b[0;34m)\u001b[0m\u001b[0;34m\u001b[0m\u001b[0;34m\u001b[0m\u001b[0m\n\u001b[0m\u001b[1;32m      2\u001b[0m \u001b[0mmodel\u001b[0m\u001b[0;34m.\u001b[0m\u001b[0msummary\u001b[0m\u001b[0;34m(\u001b[0m\u001b[0;34m)\u001b[0m\u001b[0;34m\u001b[0m\u001b[0;34m\u001b[0m\u001b[0m\n",
      "\u001b[0;32m<ipython-input-33-4322b06d639f>\u001b[0m in \u001b[0;36mmk_model\u001b[0;34m()\u001b[0m\n\u001b[1;32m      7\u001b[0m     \u001b[0mmodel_output\u001b[0m \u001b[0;34m=\u001b[0m \u001b[0mlayers\u001b[0m\u001b[0;34m.\u001b[0m\u001b[0mAdd\u001b[0m\u001b[0;34m(\u001b[0m\u001b[0;34m)\u001b[0m\u001b[0;34m(\u001b[0m\u001b[0;34m[\u001b[0m\u001b[0mmodel_input1\u001b[0m\u001b[0;34m,\u001b[0m \u001b[0mmodel_input2\u001b[0m\u001b[0;34m]\u001b[0m\u001b[0;34m)\u001b[0m\u001b[0;34m\u001b[0m\u001b[0;34m\u001b[0m\u001b[0m\n\u001b[1;32m      8\u001b[0m \u001b[0;34m\u001b[0m\u001b[0m\n\u001b[0;32m----> 9\u001b[0;31m     \u001b[0mmodel\u001b[0m \u001b[0;34m=\u001b[0m \u001b[0mModel\u001b[0m\u001b[0;34m(\u001b[0m\u001b[0mmodel_input1\u001b[0m\u001b[0;34m,\u001b[0m \u001b[0mmodel_output\u001b[0m\u001b[0;34m)\u001b[0m\u001b[0;34m\u001b[0m\u001b[0;34m\u001b[0m\u001b[0m\n\u001b[0m\u001b[1;32m     10\u001b[0m \u001b[0;34m\u001b[0m\u001b[0m\n\u001b[1;32m     11\u001b[0m     \u001b[0;32mreturn\u001b[0m \u001b[0mmodel\u001b[0m\u001b[0;34m\u001b[0m\u001b[0;34m\u001b[0m\u001b[0m\n",
      "\u001b[0;32m/ssd/scratch/cshimmin/.virtualenvs/jupyter367/lib/python3.6/site-packages/keras/legacy/interfaces.py\u001b[0m in \u001b[0;36mwrapper\u001b[0;34m(*args, **kwargs)\u001b[0m\n\u001b[1;32m     89\u001b[0m                 warnings.warn('Update your `' + object_name + '` call to the ' +\n\u001b[1;32m     90\u001b[0m                               'Keras 2 API: ' + signature, stacklevel=2)\n\u001b[0;32m---> 91\u001b[0;31m             \u001b[0;32mreturn\u001b[0m \u001b[0mfunc\u001b[0m\u001b[0;34m(\u001b[0m\u001b[0;34m*\u001b[0m\u001b[0margs\u001b[0m\u001b[0;34m,\u001b[0m \u001b[0;34m**\u001b[0m\u001b[0mkwargs\u001b[0m\u001b[0;34m)\u001b[0m\u001b[0;34m\u001b[0m\u001b[0;34m\u001b[0m\u001b[0m\n\u001b[0m\u001b[1;32m     92\u001b[0m         \u001b[0mwrapper\u001b[0m\u001b[0;34m.\u001b[0m\u001b[0m_original_function\u001b[0m \u001b[0;34m=\u001b[0m \u001b[0mfunc\u001b[0m\u001b[0;34m\u001b[0m\u001b[0;34m\u001b[0m\u001b[0m\n\u001b[1;32m     93\u001b[0m         \u001b[0;32mreturn\u001b[0m \u001b[0mwrapper\u001b[0m\u001b[0;34m\u001b[0m\u001b[0;34m\u001b[0m\u001b[0m\n",
      "\u001b[0;32m/ssd/scratch/cshimmin/.virtualenvs/jupyter367/lib/python3.6/site-packages/keras/engine/network.py\u001b[0m in \u001b[0;36m__init__\u001b[0;34m(self, *args, **kwargs)\u001b[0m\n\u001b[1;32m     91\u001b[0m                 'inputs' in kwargs and 'outputs' in kwargs):\n\u001b[1;32m     92\u001b[0m             \u001b[0;31m# Graph network\u001b[0m\u001b[0;34m\u001b[0m\u001b[0;34m\u001b[0m\u001b[0;34m\u001b[0m\u001b[0m\n\u001b[0;32m---> 93\u001b[0;31m             \u001b[0mself\u001b[0m\u001b[0;34m.\u001b[0m\u001b[0m_init_graph_network\u001b[0m\u001b[0;34m(\u001b[0m\u001b[0;34m*\u001b[0m\u001b[0margs\u001b[0m\u001b[0;34m,\u001b[0m \u001b[0;34m**\u001b[0m\u001b[0mkwargs\u001b[0m\u001b[0;34m)\u001b[0m\u001b[0;34m\u001b[0m\u001b[0;34m\u001b[0m\u001b[0m\n\u001b[0m\u001b[1;32m     94\u001b[0m         \u001b[0;32melse\u001b[0m\u001b[0;34m:\u001b[0m\u001b[0;34m\u001b[0m\u001b[0;34m\u001b[0m\u001b[0m\n\u001b[1;32m     95\u001b[0m             \u001b[0;31m# Subclassed network\u001b[0m\u001b[0;34m\u001b[0m\u001b[0;34m\u001b[0m\u001b[0;34m\u001b[0m\u001b[0m\n",
      "\u001b[0;32m/ssd/scratch/cshimmin/.virtualenvs/jupyter367/lib/python3.6/site-packages/keras/engine/network.py\u001b[0m in \u001b[0;36m_init_graph_network\u001b[0;34m(self, inputs, outputs, name)\u001b[0m\n\u001b[1;32m    229\u001b[0m         \u001b[0;31m# Keep track of the network's nodes and layers.\u001b[0m\u001b[0;34m\u001b[0m\u001b[0;34m\u001b[0m\u001b[0;34m\u001b[0m\u001b[0m\n\u001b[1;32m    230\u001b[0m         nodes, nodes_by_depth, layers, layers_by_depth = _map_graph_network(\n\u001b[0;32m--> 231\u001b[0;31m             self.inputs, self.outputs)\n\u001b[0m\u001b[1;32m    232\u001b[0m         \u001b[0mself\u001b[0m\u001b[0;34m.\u001b[0m\u001b[0m_network_nodes\u001b[0m \u001b[0;34m=\u001b[0m \u001b[0mnodes\u001b[0m\u001b[0;34m\u001b[0m\u001b[0;34m\u001b[0m\u001b[0m\n\u001b[1;32m    233\u001b[0m         \u001b[0mself\u001b[0m\u001b[0;34m.\u001b[0m\u001b[0m_nodes_by_depth\u001b[0m \u001b[0;34m=\u001b[0m \u001b[0mnodes_by_depth\u001b[0m\u001b[0;34m\u001b[0m\u001b[0;34m\u001b[0m\u001b[0m\n",
      "\u001b[0;32m/ssd/scratch/cshimmin/.virtualenvs/jupyter367/lib/python3.6/site-packages/keras/engine/network.py\u001b[0m in \u001b[0;36m_map_graph_network\u001b[0;34m(inputs, outputs)\u001b[0m\n\u001b[1;32m   1441\u001b[0m                                          \u001b[0;34m'The following previous layers '\u001b[0m\u001b[0;34m\u001b[0m\u001b[0;34m\u001b[0m\u001b[0m\n\u001b[1;32m   1442\u001b[0m                                          \u001b[0;34m'were accessed without issue: '\u001b[0m \u001b[0;34m+\u001b[0m\u001b[0;34m\u001b[0m\u001b[0;34m\u001b[0m\u001b[0m\n\u001b[0;32m-> 1443\u001b[0;31m                                          str(layers_with_complete_input))\n\u001b[0m\u001b[1;32m   1444\u001b[0m                 \u001b[0;32mfor\u001b[0m \u001b[0mx\u001b[0m \u001b[0;32min\u001b[0m \u001b[0mnode\u001b[0m\u001b[0;34m.\u001b[0m\u001b[0moutput_tensors\u001b[0m\u001b[0;34m:\u001b[0m\u001b[0;34m\u001b[0m\u001b[0;34m\u001b[0m\u001b[0m\n\u001b[1;32m   1445\u001b[0m                     \u001b[0mcomputable_tensors\u001b[0m\u001b[0;34m.\u001b[0m\u001b[0mappend\u001b[0m\u001b[0;34m(\u001b[0m\u001b[0mx\u001b[0m\u001b[0;34m)\u001b[0m\u001b[0;34m\u001b[0m\u001b[0;34m\u001b[0m\u001b[0m\n",
      "\u001b[0;31mValueError\u001b[0m: Graph disconnected: cannot obtain value for tensor Tensor(\"input_2:0\", shape=(?, 28, 28), dtype=float32) at layer \"input_2\". The following previous layers were accessed without issue: ['input_1']"
     ]
    }
   ],
   "source": [
    "model = mk_model()\n",
    "model.summary()"
   ]
  },
  {
   "cell_type": "code",
   "execution_count": 35,
   "metadata": {},
   "outputs": [],
   "source": [
    "def mk_model():\n",
    "    K.clear_session()\n",
    "    \n",
    "    model_input = layers.Input((1,))\n",
    "    \n",
    "    model_output = layers.Add()(model_input, model_input)\n",
    "        \n",
    "    model = Model(model_input, model_output)\n",
    "    \n",
    "    return model"
   ]
  },
  {
   "cell_type": "code",
   "execution_count": 36,
   "metadata": {},
   "outputs": [
    {
     "ename": "TypeError",
     "evalue": "__call__() takes 2 positional arguments but 3 were given",
     "output_type": "error",
     "traceback": [
      "\u001b[0;31m---------------------------------------------------------------------------\u001b[0m",
      "\u001b[0;31mTypeError\u001b[0m                                 Traceback (most recent call last)",
      "\u001b[0;32m<ipython-input-36-2c4e8166a534>\u001b[0m in \u001b[0;36m<module>\u001b[0;34m\u001b[0m\n\u001b[0;32m----> 1\u001b[0;31m \u001b[0mmodel\u001b[0m \u001b[0;34m=\u001b[0m \u001b[0mmk_model\u001b[0m\u001b[0;34m(\u001b[0m\u001b[0;34m)\u001b[0m\u001b[0;34m\u001b[0m\u001b[0;34m\u001b[0m\u001b[0m\n\u001b[0m\u001b[1;32m      2\u001b[0m \u001b[0mmodel\u001b[0m\u001b[0;34m.\u001b[0m\u001b[0msummary\u001b[0m\u001b[0;34m(\u001b[0m\u001b[0;34m)\u001b[0m\u001b[0;34m\u001b[0m\u001b[0;34m\u001b[0m\u001b[0m\n",
      "\u001b[0;32m<ipython-input-35-63b33c577424>\u001b[0m in \u001b[0;36mmk_model\u001b[0;34m()\u001b[0m\n\u001b[1;32m      4\u001b[0m     \u001b[0mmodel_input\u001b[0m \u001b[0;34m=\u001b[0m \u001b[0mlayers\u001b[0m\u001b[0;34m.\u001b[0m\u001b[0mInput\u001b[0m\u001b[0;34m(\u001b[0m\u001b[0;34m(\u001b[0m\u001b[0;36m1\u001b[0m\u001b[0;34m,\u001b[0m\u001b[0;34m)\u001b[0m\u001b[0;34m)\u001b[0m\u001b[0;34m\u001b[0m\u001b[0;34m\u001b[0m\u001b[0m\n\u001b[1;32m      5\u001b[0m \u001b[0;34m\u001b[0m\u001b[0m\n\u001b[0;32m----> 6\u001b[0;31m     \u001b[0mmodel_output\u001b[0m \u001b[0;34m=\u001b[0m \u001b[0mlayers\u001b[0m\u001b[0;34m.\u001b[0m\u001b[0mAdd\u001b[0m\u001b[0;34m(\u001b[0m\u001b[0;34m)\u001b[0m\u001b[0;34m(\u001b[0m\u001b[0mmodel_input\u001b[0m\u001b[0;34m,\u001b[0m \u001b[0mmodel_input\u001b[0m\u001b[0;34m)\u001b[0m\u001b[0;34m\u001b[0m\u001b[0;34m\u001b[0m\u001b[0m\n\u001b[0m\u001b[1;32m      7\u001b[0m \u001b[0;34m\u001b[0m\u001b[0m\n\u001b[1;32m      8\u001b[0m     \u001b[0mmodel\u001b[0m \u001b[0;34m=\u001b[0m \u001b[0mModel\u001b[0m\u001b[0;34m(\u001b[0m\u001b[0mmodel_input\u001b[0m\u001b[0;34m,\u001b[0m \u001b[0mmodel_output\u001b[0m\u001b[0;34m)\u001b[0m\u001b[0;34m\u001b[0m\u001b[0;34m\u001b[0m\u001b[0m\n",
      "\u001b[0;31mTypeError\u001b[0m: __call__() takes 2 positional arguments but 3 were given"
     ]
    }
   ],
   "source": [
    "model = mk_model()\n",
    "model.summary()"
   ]
  },
  {
   "cell_type": "code",
   "execution_count": 37,
   "metadata": {},
   "outputs": [],
   "source": [
    "def mk_model():\n",
    "    K.clear_session()\n",
    "    \n",
    "    model_input1 = layers.Input((28,28))\n",
    "    model_input2 = layers.Input((28,28))\n",
    "        \n",
    "    model_output = layers.Add()([model_input1, model_input2])\n",
    "    \n",
    "    model = Model([model_input1, model_input2], model_output)\n",
    "    \n",
    "    return model"
   ]
  },
  {
   "cell_type": "code",
   "execution_count": 38,
   "metadata": {},
   "outputs": [
    {
     "name": "stdout",
     "output_type": "stream",
     "text": [
      "__________________________________________________________________________________________________\n",
      "Layer (type)                    Output Shape         Param #     Connected to                     \n",
      "==================================================================================================\n",
      "input_1 (InputLayer)            (None, 28, 28)       0                                            \n",
      "__________________________________________________________________________________________________\n",
      "input_2 (InputLayer)            (None, 28, 28)       0                                            \n",
      "__________________________________________________________________________________________________\n",
      "add_1 (Add)                     (None, 28, 28)       0           input_1[0][0]                    \n",
      "                                                                 input_2[0][0]                    \n",
      "==================================================================================================\n",
      "Total params: 0\n",
      "Trainable params: 0\n",
      "Non-trainable params: 0\n",
      "__________________________________________________________________________________________________\n"
     ]
    }
   ],
   "source": [
    "model = mk_model()\n",
    "model.summary()"
   ]
  },
  {
   "cell_type": "code",
   "execution_count": 39,
   "metadata": {},
   "outputs": [
    {
     "ename": "ValueError",
     "evalue": "Error when checking input: expected input_2 to have 3 dimensions, but got array with shape (60000, 1)",
     "output_type": "error",
     "traceback": [
      "\u001b[0;31m---------------------------------------------------------------------------\u001b[0m",
      "\u001b[0;31mValueError\u001b[0m                                Traceback (most recent call last)",
      "\u001b[0;32m<ipython-input-39-86e3206b1a79>\u001b[0m in \u001b[0;36m<module>\u001b[0;34m\u001b[0m\n\u001b[0;32m----> 1\u001b[0;31m \u001b[0mmodel\u001b[0m\u001b[0;34m.\u001b[0m\u001b[0mpredict\u001b[0m\u001b[0;34m(\u001b[0m\u001b[0;34m[\u001b[0m\u001b[0mX_train\u001b[0m\u001b[0;34m,\u001b[0m \u001b[0my_train\u001b[0m\u001b[0;34m]\u001b[0m\u001b[0;34m)\u001b[0m\u001b[0;34m\u001b[0m\u001b[0;34m\u001b[0m\u001b[0m\n\u001b[0m",
      "\u001b[0;32m/ssd/scratch/cshimmin/.virtualenvs/jupyter367/lib/python3.6/site-packages/keras/engine/training.py\u001b[0m in \u001b[0;36mpredict\u001b[0;34m(self, x, batch_size, verbose, steps)\u001b[0m\n\u001b[1;32m   1147\u001b[0m                              'argument.')\n\u001b[1;32m   1148\u001b[0m         \u001b[0;31m# Validate user data.\u001b[0m\u001b[0;34m\u001b[0m\u001b[0;34m\u001b[0m\u001b[0;34m\u001b[0m\u001b[0m\n\u001b[0;32m-> 1149\u001b[0;31m         \u001b[0mx\u001b[0m\u001b[0;34m,\u001b[0m \u001b[0m_\u001b[0m\u001b[0;34m,\u001b[0m \u001b[0m_\u001b[0m \u001b[0;34m=\u001b[0m \u001b[0mself\u001b[0m\u001b[0;34m.\u001b[0m\u001b[0m_standardize_user_data\u001b[0m\u001b[0;34m(\u001b[0m\u001b[0mx\u001b[0m\u001b[0;34m)\u001b[0m\u001b[0;34m\u001b[0m\u001b[0;34m\u001b[0m\u001b[0m\n\u001b[0m\u001b[1;32m   1150\u001b[0m         \u001b[0;32mif\u001b[0m \u001b[0mself\u001b[0m\u001b[0;34m.\u001b[0m\u001b[0mstateful\u001b[0m\u001b[0;34m:\u001b[0m\u001b[0;34m\u001b[0m\u001b[0;34m\u001b[0m\u001b[0m\n\u001b[1;32m   1151\u001b[0m             \u001b[0;32mif\u001b[0m \u001b[0mx\u001b[0m\u001b[0;34m[\u001b[0m\u001b[0;36m0\u001b[0m\u001b[0;34m]\u001b[0m\u001b[0;34m.\u001b[0m\u001b[0mshape\u001b[0m\u001b[0;34m[\u001b[0m\u001b[0;36m0\u001b[0m\u001b[0;34m]\u001b[0m \u001b[0;34m>\u001b[0m \u001b[0mbatch_size\u001b[0m \u001b[0;32mand\u001b[0m \u001b[0mx\u001b[0m\u001b[0;34m[\u001b[0m\u001b[0;36m0\u001b[0m\u001b[0;34m]\u001b[0m\u001b[0;34m.\u001b[0m\u001b[0mshape\u001b[0m\u001b[0;34m[\u001b[0m\u001b[0;36m0\u001b[0m\u001b[0;34m]\u001b[0m \u001b[0;34m%\u001b[0m \u001b[0mbatch_size\u001b[0m \u001b[0;34m!=\u001b[0m \u001b[0;36m0\u001b[0m\u001b[0;34m:\u001b[0m\u001b[0;34m\u001b[0m\u001b[0;34m\u001b[0m\u001b[0m\n",
      "\u001b[0;32m/ssd/scratch/cshimmin/.virtualenvs/jupyter367/lib/python3.6/site-packages/keras/engine/training.py\u001b[0m in \u001b[0;36m_standardize_user_data\u001b[0;34m(self, x, y, sample_weight, class_weight, check_array_lengths, batch_size)\u001b[0m\n\u001b[1;32m    749\u001b[0m             \u001b[0mfeed_input_shapes\u001b[0m\u001b[0;34m,\u001b[0m\u001b[0;34m\u001b[0m\u001b[0;34m\u001b[0m\u001b[0m\n\u001b[1;32m    750\u001b[0m             \u001b[0mcheck_batch_axis\u001b[0m\u001b[0;34m=\u001b[0m\u001b[0;32mFalse\u001b[0m\u001b[0;34m,\u001b[0m  \u001b[0;31m# Don't enforce the batch size.\u001b[0m\u001b[0;34m\u001b[0m\u001b[0;34m\u001b[0m\u001b[0m\n\u001b[0;32m--> 751\u001b[0;31m             exception_prefix='input')\n\u001b[0m\u001b[1;32m    752\u001b[0m \u001b[0;34m\u001b[0m\u001b[0m\n\u001b[1;32m    753\u001b[0m         \u001b[0;32mif\u001b[0m \u001b[0my\u001b[0m \u001b[0;32mis\u001b[0m \u001b[0;32mnot\u001b[0m \u001b[0;32mNone\u001b[0m\u001b[0;34m:\u001b[0m\u001b[0;34m\u001b[0m\u001b[0;34m\u001b[0m\u001b[0m\n",
      "\u001b[0;32m/ssd/scratch/cshimmin/.virtualenvs/jupyter367/lib/python3.6/site-packages/keras/engine/training_utils.py\u001b[0m in \u001b[0;36mstandardize_input_data\u001b[0;34m(data, names, shapes, check_batch_axis, exception_prefix)\u001b[0m\n\u001b[1;32m    126\u001b[0m                         \u001b[0;34m': expected '\u001b[0m \u001b[0;34m+\u001b[0m \u001b[0mnames\u001b[0m\u001b[0;34m[\u001b[0m\u001b[0mi\u001b[0m\u001b[0;34m]\u001b[0m \u001b[0;34m+\u001b[0m \u001b[0;34m' to have '\u001b[0m \u001b[0;34m+\u001b[0m\u001b[0;34m\u001b[0m\u001b[0;34m\u001b[0m\u001b[0m\n\u001b[1;32m    127\u001b[0m                         \u001b[0mstr\u001b[0m\u001b[0;34m(\u001b[0m\u001b[0mlen\u001b[0m\u001b[0;34m(\u001b[0m\u001b[0mshape\u001b[0m\u001b[0;34m)\u001b[0m\u001b[0;34m)\u001b[0m \u001b[0;34m+\u001b[0m \u001b[0;34m' dimensions, but got array '\u001b[0m\u001b[0;34m\u001b[0m\u001b[0;34m\u001b[0m\u001b[0m\n\u001b[0;32m--> 128\u001b[0;31m                         'with shape ' + str(data_shape))\n\u001b[0m\u001b[1;32m    129\u001b[0m                 \u001b[0;32mif\u001b[0m \u001b[0;32mnot\u001b[0m \u001b[0mcheck_batch_axis\u001b[0m\u001b[0;34m:\u001b[0m\u001b[0;34m\u001b[0m\u001b[0;34m\u001b[0m\u001b[0m\n\u001b[1;32m    130\u001b[0m                     \u001b[0mdata_shape\u001b[0m \u001b[0;34m=\u001b[0m \u001b[0mdata_shape\u001b[0m\u001b[0;34m[\u001b[0m\u001b[0;36m1\u001b[0m\u001b[0;34m:\u001b[0m\u001b[0;34m]\u001b[0m\u001b[0;34m\u001b[0m\u001b[0;34m\u001b[0m\u001b[0m\n",
      "\u001b[0;31mValueError\u001b[0m: Error when checking input: expected input_2 to have 3 dimensions, but got array with shape (60000, 1)"
     ]
    }
   ],
   "source": [
    "model.predict([X_train, y_train])"
   ]
  },
  {
   "cell_type": "code",
   "execution_count": 40,
   "metadata": {},
   "outputs": [],
   "source": [
    "def mk_model():\n",
    "    K.clear_session()\n",
    "    \n",
    "    model_input = layers.Input((1,))\n",
    "    \n",
    "    model_output = layers.Reshape((1,1))\n",
    "        \n",
    "    model = Model(model_input, model_output)\n",
    "    \n",
    "    return model"
   ]
  },
  {
   "cell_type": "code",
   "execution_count": 41,
   "metadata": {},
   "outputs": [
    {
     "ename": "ValueError",
     "evalue": "Output tensors to a Model must be the output of a Keras `Layer` (thus holding past layer metadata). Found: <keras.layers.core.Reshape object at 0x7fefbc0bc7b8>",
     "output_type": "error",
     "traceback": [
      "\u001b[0;31m---------------------------------------------------------------------------\u001b[0m",
      "\u001b[0;31mValueError\u001b[0m                                Traceback (most recent call last)",
      "\u001b[0;32m<ipython-input-41-2c4e8166a534>\u001b[0m in \u001b[0;36m<module>\u001b[0;34m\u001b[0m\n\u001b[0;32m----> 1\u001b[0;31m \u001b[0mmodel\u001b[0m \u001b[0;34m=\u001b[0m \u001b[0mmk_model\u001b[0m\u001b[0;34m(\u001b[0m\u001b[0;34m)\u001b[0m\u001b[0;34m\u001b[0m\u001b[0;34m\u001b[0m\u001b[0m\n\u001b[0m\u001b[1;32m      2\u001b[0m \u001b[0mmodel\u001b[0m\u001b[0;34m.\u001b[0m\u001b[0msummary\u001b[0m\u001b[0;34m(\u001b[0m\u001b[0;34m)\u001b[0m\u001b[0;34m\u001b[0m\u001b[0;34m\u001b[0m\u001b[0m\n",
      "\u001b[0;32m<ipython-input-40-56e97af1e868>\u001b[0m in \u001b[0;36mmk_model\u001b[0;34m()\u001b[0m\n\u001b[1;32m      6\u001b[0m     \u001b[0mmodel_output\u001b[0m \u001b[0;34m=\u001b[0m \u001b[0mlayers\u001b[0m\u001b[0;34m.\u001b[0m\u001b[0mReshape\u001b[0m\u001b[0;34m(\u001b[0m\u001b[0;34m(\u001b[0m\u001b[0;36m1\u001b[0m\u001b[0;34m,\u001b[0m\u001b[0;36m1\u001b[0m\u001b[0;34m)\u001b[0m\u001b[0;34m)\u001b[0m\u001b[0;34m\u001b[0m\u001b[0;34m\u001b[0m\u001b[0m\n\u001b[1;32m      7\u001b[0m \u001b[0;34m\u001b[0m\u001b[0m\n\u001b[0;32m----> 8\u001b[0;31m     \u001b[0mmodel\u001b[0m \u001b[0;34m=\u001b[0m \u001b[0mModel\u001b[0m\u001b[0;34m(\u001b[0m\u001b[0mmodel_input\u001b[0m\u001b[0;34m,\u001b[0m \u001b[0mmodel_output\u001b[0m\u001b[0;34m)\u001b[0m\u001b[0;34m\u001b[0m\u001b[0;34m\u001b[0m\u001b[0m\n\u001b[0m\u001b[1;32m      9\u001b[0m \u001b[0;34m\u001b[0m\u001b[0m\n\u001b[1;32m     10\u001b[0m     \u001b[0;32mreturn\u001b[0m \u001b[0mmodel\u001b[0m\u001b[0;34m\u001b[0m\u001b[0;34m\u001b[0m\u001b[0m\n",
      "\u001b[0;32m/ssd/scratch/cshimmin/.virtualenvs/jupyter367/lib/python3.6/site-packages/keras/legacy/interfaces.py\u001b[0m in \u001b[0;36mwrapper\u001b[0;34m(*args, **kwargs)\u001b[0m\n\u001b[1;32m     89\u001b[0m                 warnings.warn('Update your `' + object_name + '` call to the ' +\n\u001b[1;32m     90\u001b[0m                               'Keras 2 API: ' + signature, stacklevel=2)\n\u001b[0;32m---> 91\u001b[0;31m             \u001b[0;32mreturn\u001b[0m \u001b[0mfunc\u001b[0m\u001b[0;34m(\u001b[0m\u001b[0;34m*\u001b[0m\u001b[0margs\u001b[0m\u001b[0;34m,\u001b[0m \u001b[0;34m**\u001b[0m\u001b[0mkwargs\u001b[0m\u001b[0;34m)\u001b[0m\u001b[0;34m\u001b[0m\u001b[0;34m\u001b[0m\u001b[0m\n\u001b[0m\u001b[1;32m     92\u001b[0m         \u001b[0mwrapper\u001b[0m\u001b[0;34m.\u001b[0m\u001b[0m_original_function\u001b[0m \u001b[0;34m=\u001b[0m \u001b[0mfunc\u001b[0m\u001b[0;34m\u001b[0m\u001b[0;34m\u001b[0m\u001b[0m\n\u001b[1;32m     93\u001b[0m         \u001b[0;32mreturn\u001b[0m \u001b[0mwrapper\u001b[0m\u001b[0;34m\u001b[0m\u001b[0;34m\u001b[0m\u001b[0m\n",
      "\u001b[0;32m/ssd/scratch/cshimmin/.virtualenvs/jupyter367/lib/python3.6/site-packages/keras/engine/network.py\u001b[0m in \u001b[0;36m__init__\u001b[0;34m(self, *args, **kwargs)\u001b[0m\n\u001b[1;32m     91\u001b[0m                 'inputs' in kwargs and 'outputs' in kwargs):\n\u001b[1;32m     92\u001b[0m             \u001b[0;31m# Graph network\u001b[0m\u001b[0;34m\u001b[0m\u001b[0;34m\u001b[0m\u001b[0;34m\u001b[0m\u001b[0m\n\u001b[0;32m---> 93\u001b[0;31m             \u001b[0mself\u001b[0m\u001b[0;34m.\u001b[0m\u001b[0m_init_graph_network\u001b[0m\u001b[0;34m(\u001b[0m\u001b[0;34m*\u001b[0m\u001b[0margs\u001b[0m\u001b[0;34m,\u001b[0m \u001b[0;34m**\u001b[0m\u001b[0mkwargs\u001b[0m\u001b[0;34m)\u001b[0m\u001b[0;34m\u001b[0m\u001b[0;34m\u001b[0m\u001b[0m\n\u001b[0m\u001b[1;32m     94\u001b[0m         \u001b[0;32melse\u001b[0m\u001b[0;34m:\u001b[0m\u001b[0;34m\u001b[0m\u001b[0;34m\u001b[0m\u001b[0m\n\u001b[1;32m     95\u001b[0m             \u001b[0;31m# Subclassed network\u001b[0m\u001b[0;34m\u001b[0m\u001b[0;34m\u001b[0m\u001b[0;34m\u001b[0m\u001b[0m\n",
      "\u001b[0;32m/ssd/scratch/cshimmin/.virtualenvs/jupyter367/lib/python3.6/site-packages/keras/engine/network.py\u001b[0m in \u001b[0;36m_init_graph_network\u001b[0;34m(self, inputs, outputs, name)\u001b[0m\n\u001b[1;32m    186\u001b[0m                                  \u001b[0;34m'the output of a Keras `Layer` '\u001b[0m\u001b[0;34m\u001b[0m\u001b[0;34m\u001b[0m\u001b[0m\n\u001b[1;32m    187\u001b[0m                                  \u001b[0;34m'(thus holding past layer metadata). '\u001b[0m\u001b[0;34m\u001b[0m\u001b[0;34m\u001b[0m\u001b[0m\n\u001b[0;32m--> 188\u001b[0;31m                                  'Found: ' + str(x))\n\u001b[0m\u001b[1;32m    189\u001b[0m         \u001b[0mself\u001b[0m\u001b[0;34m.\u001b[0m\u001b[0m_base_init\u001b[0m\u001b[0;34m(\u001b[0m\u001b[0mname\u001b[0m\u001b[0;34m=\u001b[0m\u001b[0mname\u001b[0m\u001b[0;34m)\u001b[0m\u001b[0;34m\u001b[0m\u001b[0;34m\u001b[0m\u001b[0m\n\u001b[1;32m    190\u001b[0m         self._compute_previous_mask = (\n",
      "\u001b[0;31mValueError\u001b[0m: Output tensors to a Model must be the output of a Keras `Layer` (thus holding past layer metadata). Found: <keras.layers.core.Reshape object at 0x7fefbc0bc7b8>"
     ]
    }
   ],
   "source": [
    "model = mk_model()\n",
    "model.summary()"
   ]
  },
  {
   "cell_type": "code",
   "execution_count": null,
   "metadata": {},
   "outputs": [],
   "source": []
  }
 ],
 "metadata": {
  "kernelspec": {
   "display_name": "Python 3",
   "language": "python",
   "name": "python3"
  },
  "language_info": {
   "codemirror_mode": {
    "name": "ipython",
    "version": 3
   },
   "file_extension": ".py",
   "mimetype": "text/x-python",
   "name": "python",
   "nbconvert_exporter": "python",
   "pygments_lexer": "ipython3",
   "version": "3.6.7"
  }
 },
 "nbformat": 4,
 "nbformat_minor": 2
}
